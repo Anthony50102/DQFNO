{
 "cells": [
  {
   "cell_type": "code",
   "execution_count": null,
   "metadata": {},
   "outputs": [],
   "source": [
    "import sys\n",
    "import os\n",
    "import h5py\n",
    "import torch\n",
    "import matplotlib.pyplot as plt\n",
    "import numpy as np\n",
    "import glob\n",
    "import random\n",
    "from typing import Union, Tuple, Optional\n",
    "project_root = os.path.abspath(os.path.join(os.getcwd(), \"..\"))\n",
    "sys.path.append(project_root)\n",
    "\n",
    "from src.models.dqfno import DQFNO\n",
    "from src.losses.data_losses import LpLoss, H1Loss\n",
    "from src.training.adamw import AdamW"
   ]
  },
  {
   "cell_type": "code",
   "execution_count": 2,
   "metadata": {},
   "outputs": [
    {
     "name": "stdout",
     "output_type": "stream",
     "text": [
      "Modes: [(64, 64), (128, 128), (32, 32)], in_channels: 1\n",
      "Lifting layer instatiates with 3 and 4 as :Linear(in_features=3, out_features=4, bias=True)\n"
     ]
    }
   ],
   "source": [
    "model = DQFNO(\n",
    "    modes=[(64,64), (128,128), (32,32)],\n",
    "    in_channels=1,\n",
    "    out_channels=1,\n",
    "    hidden_channels=4,\n",
    "    debug=True\n",
    ")\n",
    "optim = torch.optim.Adam(model.parameters(), lr=.001)\n",
    "criterion = loss = torch.nn.functional.mse_loss"
   ]
  },
  {
   "cell_type": "code",
   "execution_count": 3,
   "metadata": {},
   "outputs": [
    {
     "name": "stdout",
     "output_type": "stream",
     "text": [
      "1 1 10 3 128 128\n",
      "Post pos embed shape torch.Size([1, 3, 10, 3, 128, 128])\n",
      "x shape after lifting torch.Size([1, 4, 10, 3, 128, 128])\n",
      "<class 'torch.Tensor'>\n",
      "torch.Size([1, 4, 10, 3, 128, 128]) torch.Size([1, 4, 10, 3, 128, 128])\n",
      "<class 'torch.Tensor'>\n",
      "torch.Size([1, 4, 10, 3, 128, 128]) torch.Size([1, 4, 10, 3, 128, 128])\n",
      "<class 'torch.Tensor'>\n",
      "torch.Size([1, 4, 10, 3, 128, 128]) torch.Size([1, 4, 10, 3, 128, 128])\n",
      "<class 'torch.Tensor'>\n",
      "torch.Size([1, 4, 10, 3, 128, 128]) torch.Size([1, 4, 10, 3, 128, 128])\n",
      "Shape post fno: torch.Size([1, 4, 10, 3, 128, 128])\n"
     ]
    }
   ],
   "source": [
    "x = torch.rand(1,1,10,3,128,128) # B, C, T, V, X, Y\n",
    "y = torch.rand(1,1,10,3,128, 128)\n",
    "pred = model(x)\n",
    "pred.shape\n",
    "loss = criterion(pred, y)\n",
    "optim.zero_grad()\n",
    "loss.backward()\n",
    "optim.step()"
   ]
  },
  {
   "cell_type": "code",
   "execution_count": null,
   "metadata": {},
   "outputs": [],
   "source": []
  }
 ],
 "metadata": {
  "kernelspec": {
   "display_name": "dqfno",
   "language": "python",
   "name": "python3"
  },
  "language_info": {
   "codemirror_mode": {
    "name": "ipython",
    "version": 3
   },
   "file_extension": ".py",
   "mimetype": "text/x-python",
   "name": "python",
   "nbconvert_exporter": "python",
   "pygments_lexer": "ipython3",
   "version": "3.13.2"
  }
 },
 "nbformat": 4,
 "nbformat_minor": 2
}
